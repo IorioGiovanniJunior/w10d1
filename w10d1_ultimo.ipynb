{
 "cells": [
  {
   "cell_type": "code",
   "execution_count": null,
   "id": "bc2eb26d-1925-4f47-80dd-5e49438f15e6",
   "metadata": {},
   "outputs": [],
   "source": [
    "import pandas as pd\n",
    "import numpy as np"
   ]
  },
  {
   "cell_type": "markdown",
   "id": "14ec416f-1737-455a-aa5a-b9d3e1e32aa3",
   "metadata": {},
   "source": [
    "Esercizio Abbiamo una lista di liste: mat = [[0, 1, 2, 3, 4], [5, 6, 7, 8, 9], [10, 11, 12, 13, 14]] Che tipo di struttura dati o matematica potrebbe rappresentare? Notare che tutte le liste \"interne\" sono della stessa dimensione Come facciamo per accedere ad un elemento in particolare? **struttura dati: rapresenta una tabella 3x5 ovvero, 3 righe per 5 colonne. Per 'pescare' un elemento di questa tabella possiamo fare la funzione: \n",
    "mat[riga][colonna] \"ATTENZIONE: il conteggio inizia sempre da 0**"
   ]
  },
  {
   "cell_type": "code",
   "execution_count": null,
   "id": "ea06b10d-3674-4478-afb1-973e45b08e17",
   "metadata": {},
   "outputs": [],
   "source": [
    "mat = [[0, 1, 2, 3, 4], \n",
    "       [5, 6, 7, 8, 9],\n",
    "       [10, 11, 12, 13, 14]]\n",
    "\n",
    "#uso la funzione in markdown per prendere alcuni elementi:\n",
    "print(mat[2][3]) #prendo elemento in riga 3 colonna 4, il numero 7\n",
    "print(mat[0][2])  #prendo il dato '2'\n",
    "print(mat[1][4]) #prendi il dato '9'"
   ]
  },
  {
   "cell_type": "markdown",
   "id": "bf11fc52-8422-4782-8c96-5ad0c8c6445f",
   "metadata": {},
   "source": [
    "Esercizio Importiamo il modulo math e proviamo a usare le funzioni .sin() .cos() .factorial() e la variabile .pi la riconoscete?"
   ]
  },
  {
   "cell_type": "code",
   "execution_count": null,
   "id": "f9e6d494-d872-4066-be0e-308e52dd9bae",
   "metadata": {},
   "outputs": [],
   "source": [
    "import math\n",
    "\n",
    "print(math.sin(45)) #trovo il seno di un angolo in radianti\n",
    "print(math.cos(60)) #trovo il coseno di un angolo in radianti\n",
    "print(math.factorial(10)) #trova il fattoriale\n",
    "print(math.pi) #utilizzo del pi greco\n",
    "\n",
    "#le funzioni usano i radianti, se nel caso si vuole usare i gradi bisogna convertirli\n"
   ]
  },
  {
   "cell_type": "markdown",
   "id": "91541078-31aa-4edf-bcc2-fc3e878b4955",
   "metadata": {},
   "source": [
    "Esercizio Proviamo a eseguire math.degrees(math.pi) Qual è e cosa significa il risultato? Per saperne di più su questa funzione possiamo usare help(math.degrees)"
   ]
  },
  {
   "cell_type": "code",
   "execution_count": null,
   "id": "a3f2a1a7-0b49-4c21-afc0-f8f9b3c01c52",
   "metadata": {},
   "outputs": [],
   "source": [
    "print(math.pi) #questa funzione restituisce il valore di pi greco\n",
    "help(math.degrees) #convertire radianti in gradi\n",
    "\n",
    "math.degrees(math.pi)"
   ]
  },
  {
   "cell_type": "markdown",
   "id": "6d4a1348-6c0f-484a-a339-0c987869a91e",
   "metadata": {},
   "source": [
    "Esercizio L'azienda Object SpA ha creato una lista di quanti oggetti ha venduto ogni mese nell'ultimo anno: lst = [2000, 5500, 7200, 4320, 1280, 1900, 2500, 3900, 6410, 8150, 7100, 5350] trasformiamola in un array NumPy (casting): lst = np.array(lst) e rispondiamo alle domande del CEO della Object SpA: • qual è stata la vendita massima mensile? E quella minima? • quali sono le vendite mensili maggiori di 4999 oggetti? E quante ne sono? • quali sono le vendite minori di 3000 oggetti?"
   ]
  },
  {
   "cell_type": "code",
   "execution_count": null,
   "id": "482b5895-b6e6-4378-9f27-79382a1fa8c1",
   "metadata": {},
   "outputs": [],
   "source": [
    "lst = [2000, 5500, 7200, 4320, 1280, 1900, 2500, 3900, 6410, 8150, 7100, 5350]\n",
    "lst = np.array(lst)\n",
    "\n",
    "vendita_massima = max(lst)\n",
    "vendita_minima = min(lst)\n",
    "\n",
    "print(f\"la vendita massima e': {vendita_massima}\")\n",
    "print(f\"la vendita minima e': {vendita_minima}\")"
   ]
  },
  {
   "cell_type": "code",
   "execution_count": null,
   "id": "232ac9fa-dbe5-4422-a14c-7e010a7ab3c0",
   "metadata": {},
   "outputs": [],
   "source": [
    "vendite_maggiori = lst[lst > 4999]\n",
    "quantita_vendite = vendite_maggiori.size\n",
    "\n",
    "print(\"vendite maggiori di 4999:\",vendite_maggiori)\n",
    "print(\"quantita:\",quantita_vendite)"
   ]
  },
  {
   "cell_type": "code",
   "execution_count": null,
   "id": "b3e388a8-755d-45ae-835a-74bb7c20cfa6",
   "metadata": {},
   "outputs": [],
   "source": [
    "vendite_minori = lst[lst < 3000]\n",
    "quante_minori = vendite_minori.size\n",
    "\n",
    "print(\"vnedite minori di 3000:\", vendite_minori)\n",
    "print(\"quantita:\", quante_minori)"
   ]
  },
  {
   "cell_type": "markdown",
   "id": "eead8ce7-17ef-402e-a51e-7d9219457c0d",
   "metadata": {},
   "source": [
    "Esercizio Consideriamo il seguente dizionario: fatturati_dict = {1997: 12_000, 1998: 15_000, 1999: 20_000, 2000: 23_000, 2001: 25_000, 2002: 17_000, 2003: 14_000, 2004: 21_000} Consideriamo ora la seguente Series: fatturati_series = pd.Series([12_000, 15_000, 20_000, 23_000, 25_000, 17_000, 14_000, 21_000], index=range(1997, 2005)) Possiamo accedere alle stesse informazioni nello stesso modo: fatturati_dict[1997] fatturati_series[1997] Dunque qual è la differenza tra i due tipi di dato?"
   ]
  },
  {
   "cell_type": "code",
   "execution_count": null,
   "id": "aaf32449-abbb-4f79-8706-c85c16b3c58f",
   "metadata": {},
   "outputs": [],
   "source": [
    "fatturati_dict = {1997: 12_000, 1998: 15_000, 1999: 20_000, 2000: 23_000, 2001: 25_000, 2002: 17_000, 2003: 14_000, 2004: 21_000}\n",
    "fatturati_series = pd.Series([12_000, 15_000, 20_000, 23_000, 25_000, 17_000, 14_000, 21_000], index=range(1997, 2005))\n",
    "\n",
    "print(fatturati_dict[1997])\n",
    "print(fatturati_series[1997])"
   ]
  },
  {
   "cell_type": "markdown",
   "id": "96216ee7-620a-4bb5-b6a9-f763b10f3194",
   "metadata": {},
   "source": [
    "**Entrambe associano una chiave a un valore ovvero anno a fatturato, entrambe utilizzano anche lo stesso construtto per 'pescare' un dato risultato** *ma la differenza e' che dizionario e' un semplice construtto (metodo di python) che utilizza chiave per associare un valore, ma pandas e' uno strummento di libreria avanzato che per l'analise dati permette di fare analise piu facilmente usando i dati per creare addirittura soluzioni visibili come graffici e puo essere convertita in un dataframe (tabella come in excel) per l'analise avanzata*"
   ]
  },
  {
   "cell_type": "markdown",
   "id": "7956c7e1-cf37-43df-9d28-e899b24151c5",
   "metadata": {},
   "source": [
    "Esercizio L'azienda Object SpA ha un dataset con tutti gli stipendi dei dipendenti, memorizzato in un ndarray: import numpy as np stipendi = np.array( [100, 200, 300, 400, 500,  600, 700, 800, 900, 1000] ) L'azienda ci chiede di raddoppiare tutti gli stipendi; facciamolo in due modi: • con un ciclo for e masking **il masking e' utilizzato per fare operazione solo con alcuni dati dentro una lista, con la lista intera l'ideale e' utilizzare il for, esso transforma i dati in booleano**"
   ]
  },
  {
   "cell_type": "code",
   "execution_count": null,
   "id": "8c7995f6-bc48-4a6b-9d74-6db4f8d20388",
   "metadata": {},
   "outputs": [],
   "source": [
    "stipendi = np.array( [100, 200, 300, 400, 500, 600, 700, 800, 900, 1000] )\n",
    "stipendi_rad = [] #lista vuota per essere riempita con gli stipendi raddopiati\n",
    "\n",
    "for stipendio in stipendi:\n",
    "    stipendi_rad.append(stipendio * 2)\n",
    "\n",
    "\n",
    "stipendi_rad = np.array(stipendi_rad)\n",
    "print(\"Stipendi raddopiati:\", stipendi_rad)\n",
    "\n",
    "\n",
    "mask = (stipendi > 300) & (stipendi < 900)\n",
    "print(mask)\n",
    "print(stipendi[mask])\n",
    "\n",
    "stipendi[mask] = stipendi[mask] * 2 #stipendi mask raddopiati\n",
    "print(\"stipendi raddopiati:\", stipendi,\"hai raddopiato solo gli stipendi nel range scelto\") #ha raddopiato in output solo gli stipendi nel 'range' del mask"
   ]
  },
  {
   "cell_type": "code",
   "execution_count": 1,
   "id": "70d1355f-0e4c-498a-b364-9ecadcc41896",
   "metadata": {},
   "outputs": [
    {
     "name": "stdout",
     "output_type": "stream",
     "text": [
      "[11, 9, 8]\n"
     ]
    }
   ],
   "source": [
    "numeri = [1,1,8,9,11,7,3,4,5,6]\n",
    "n = 3\n",
    "\n",
    "lista_unica = list(set(numeri))\n",
    "\n",
    "if len(lista_unica)<n:\n",
    "    print(lista_unica)\n",
    "else:\n",
    "    piu_grandi = sorted(lista_unica, reverse=True)[:n]\n",
    "    print(piu_grandi)"
   ]
  },
  {
   "cell_type": "code",
   "execution_count": null,
   "id": "847140ba-182a-4288-903b-f4d881e6166f",
   "metadata": {},
   "outputs": [],
   "source": [
    "import numpy as np\n",
    "\n",
    "dati = [10,3,5,2,4,6,7,8,23,656,4,234,6,5,34,32,978,33]\n",
    "K = 30\n",
    "\n",
    "dati = np.array(dati)\n",
    "filtro = dati >= K\n",
    "media = dati[filtro].mean()\n",
    "media = round(media , 2)\n",
    "\n",
    "print(\"la media e':\",media)"
   ]
  },
  {
   "cell_type": "code",
   "execution_count": 3,
   "id": "8f297a50-e077-42be-84ba-ed34fa8e7b2e",
   "metadata": {},
   "outputs": [
    {
     "name": "stdout",
     "output_type": "stream",
     "text": [
      "*****\n",
      "****\n",
      "********\n"
     ]
    }
   ],
   "source": [
    "numeri = [5, 4, 8]\n",
    "for numero in numeri:\n",
    "    print(numero*\"*\")"
   ]
  },
  {
   "cell_type": "code",
   "execution_count": 9,
   "id": "86b75ed7-d25f-4a3c-9ce7-95cd147d7d12",
   "metadata": {},
   "outputs": [
    {
     "name": "stdout",
     "output_type": "stream",
     "text": [
      "['ABCDEF95G01A123B', 'STUVWX95Z04A654E', 'DEFGHI95J06A987G']\n",
      "ABC = Nome, DEF = cognome\n",
      "GHI = Nome, JKL = cognome\n",
      "MNO = Nome, PQR = cognome\n",
      "STU = Nome, VWX = cognome\n",
      "XYZ = Nome, ABC = cognome\n",
      "DEF = Nome, GHI = cognome\n"
     ]
    }
   ],
   "source": [
    "lista_cf = [\"ABCDEF95G01A123B\", \"GHIJKL91M02A321C\", \"MNOPQR89S03A456D\",\n",
    "            \"STUVWX95Z04A654E\", \"XYZABC01D05A789F\", \"DEFGHI95J06A987G\"]\n",
    "nuovi_cf = []\n",
    "for cod in lista_cf:\n",
    "    if \"95\" in cod:\n",
    "        nuovi_cf.append(cod)\n",
    "\n",
    "print(nuovi_cf)\n",
    "\n",
    "for cod in lista_cf:\n",
    "    print(f\"{cod[0:3]} = Nome, {cod[3:6]} = cognome\")"
   ]
  },
  {
   "cell_type": "code",
   "execution_count": 12,
   "id": "8daf0bba-fb83-44c6-bf5b-7daa57ea7929",
   "metadata": {},
   "outputs": [
    {
     "name": "stdout",
     "output_type": "stream",
     "text": [
      "Alex\n",
      "Faith\n"
     ]
    }
   ],
   "source": [
    "studenti = [\"Alex\", \"Bob\", \"Cindy\", \"Dan\",\n",
    "            \"Emma\", \"Faith\", \"Grace\", \"Henry\"] \n",
    "corsi = [\"Cybersecurity\", \"Data Analyst\", \"Backend\", \"Frontend\",\n",
    "         \"Data Analyst\", \"Backend\", \"Frontend\", \"Cybersecurity\"] \n",
    "edizioni = [1, 2, 3, 2, 2, 1, 3, 3]\n",
    "\n",
    "for studente,edizione in zip(studenti,edizioni):\n",
    "    if edizione == 1:\n",
    "        print(studente)\n",
    "        "
   ]
  },
  {
   "cell_type": "code",
   "execution_count": 15,
   "id": "d539294d-1dd7-4397-844c-0b367e5fb3ad",
   "metadata": {},
   "outputs": [
    {
     "name": "stdout",
     "output_type": "stream",
     "text": [
      "['100 $', '200 $', '500 $', '10 $', '50 $', '70 $']\n"
     ]
    }
   ],
   "source": [
    "prezzi = [\"100 €\", \"200 €\", \"500 €\", \"10 €\", \"50 €\", \"70 €\"]\n",
    "prezzi_giusti = []\n",
    "\n",
    "for prezzo in prezzi:\n",
    "    if \"€\" in prezzo:\n",
    "        prezzo_corretto = prezzo.replace(\"€\",\"$\")\n",
    "        prezzi_giusti.append(prezzo_corretto)\n",
    "\n",
    "\n",
    "print(prezzi_giusti)\n",
    "        "
   ]
  },
  {
   "cell_type": "code",
   "execution_count": 16,
   "id": "820ac7c7-c966-4d14-908e-94d43f3572a3",
   "metadata": {},
   "outputs": [
    {
     "name": "stdout",
     "output_type": "stream",
     "text": [
      "['Alex', 'Cindy', 'Emma', 'Grace', 'Isabelle']\n",
      "['Bob', 'Dan', 'Faith', 'Henry', 'John']\n"
     ]
    }
   ],
   "source": [
    "studenti = [\"Alex\", \"Bob\", \"Cindy\", \"Dan\", \"Emma\", \"Faith\", \"Grace\", \"Henry\", \"Isabelle\", \"John\"]\n",
    "\n",
    "squadra1 = studenti[::2]\n",
    "squadra2 = studenti[1::2]\n",
    "\n",
    "print(squadra1)\n",
    "print(squadra2)"
   ]
  },
  {
   "cell_type": "code",
   "execution_count": 17,
   "id": "f7811da9-a6ea-47de-9f00-3ced1ed46f65",
   "metadata": {},
   "outputs": [
    {
     "name": "stdout",
     "output_type": "stream",
     "text": [
      "mese 1: 100 €\n",
      "Mese 2: 90 € (media prec: 100.00 € - il guadagno attuale è minore)\n",
      "Mese 3: 70 € (media prec: 95.00 € - il guadagno attuale è minore)\n",
      "Mese 4: 40 € (media prec: 86.67 € - il guadagno attuale è minore)\n",
      "Mese 5: 50 € (media prec: 75.00 € - il guadagno attuale è minore)\n",
      "Mese 6: 80 € (media prec: 70.00 € - il guadagno attuale è maggiore)\n",
      "Mese 7: 90 € (media prec: 71.67 € - il guadagno attuale è maggiore)\n",
      "Mese 8: 120 € (media prec: 74.29 € - il guadagno attuale è maggiore)\n",
      "Mese 9: 80 € (media prec: 80.00 € - il guadagno attuale è uguale)\n",
      "Mese 10: 20 € (media prec: 80.00 € - il guadagno attuale è minore)\n",
      "Mese 11: 50 € (media prec: 74.00 € - il guadagno attuale è minore)\n",
      "Mese 12: 50 € (media prec: 71.82 € - il guadagno attuale è minore)\n"
     ]
    }
   ],
   "source": [
    "guadagni = [100, 90, 70, 40, 50, 80, 90, 120, 80, 20, 50, 50]\n",
    "\n",
    "for i in range(len(guadagni)):\n",
    "    guadagno_attuale = guadagni[i]\n",
    "    if i == 0:\n",
    "        print(f\"mese {i+1}: {guadagno_attuale} €\")\n",
    "    else:\n",
    "        media_precedenti = sum(guadagni[:i]) / i\n",
    "        if guadagno_attuale > media_precedenti:\n",
    "            confronto = \"maggiore\"\n",
    "        elif guadagno_attuale < media_precedenti:\n",
    "            confronto = \"minore\"\n",
    "        else:\n",
    "            confronto = \"uguale\"\n",
    "\n",
    "        print(f\"Mese {i+1}: {guadagno_attuale} € (media prec: {media_precedenti:.2f} € - il guadagno attuale è {confronto})\")"
   ]
  },
  {
   "cell_type": "code",
   "execution_count": null,
   "id": "7da24b50-a2b3-4ae5-ad2e-7527cc6f6988",
   "metadata": {},
   "outputs": [],
   "source": []
  }
 ],
 "metadata": {
  "kernelspec": {
   "display_name": "Python [conda env:base] *",
   "language": "python",
   "name": "conda-base-py"
  },
  "language_info": {
   "codemirror_mode": {
    "name": "ipython",
    "version": 3
   },
   "file_extension": ".py",
   "mimetype": "text/x-python",
   "name": "python",
   "nbconvert_exporter": "python",
   "pygments_lexer": "ipython3",
   "version": "3.12.7"
  }
 },
 "nbformat": 4,
 "nbformat_minor": 5
}
