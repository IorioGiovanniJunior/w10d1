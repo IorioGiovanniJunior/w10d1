{
 "cells": [
  {
   "cell_type": "code",
   "execution_count": 2,
   "id": "bc2eb26d-1925-4f47-80dd-5e49438f15e6",
   "metadata": {},
   "outputs": [],
   "source": [
    "import pandas as pd\n",
    "import numpy as np"
   ]
  },
  {
   "cell_type": "markdown",
   "id": "14ec416f-1737-455a-aa5a-b9d3e1e32aa3",
   "metadata": {},
   "source": [
    "Esercizio Abbiamo una lista di liste: mat = [[0, 1, 2, 3, 4], [5, 6, 7, 8, 9], [10, 11, 12, 13, 14]] Che tipo di struttura dati o matematica potrebbe rappresentare? Notare che tutte le liste \"interne\" sono della stessa dimensione Come facciamo per accedere ad un elemento in particolare? **struttura dati: rapresenta una tabella 3x5 ovvero, 3 righe per 5 colonne. Per 'pescare' un elemento di questa tabella possiamo fare la funzione: \n",
    "mat[riga][colonna] \"ATTENZIONE: il conteggio inizia sempre da 0**"
   ]
  },
  {
   "cell_type": "code",
   "execution_count": null,
   "id": "ea06b10d-3674-4478-afb1-973e45b08e17",
   "metadata": {},
   "outputs": [],
   "source": [
    "mat = [[0, 1, 2, 3, 4], \n",
    "       [5, 6, 7, 8, 9],\n",
    "       [10, 11, 12, 13, 14]]\n",
    "\n",
    "#uso la funzione in markdown per prendere alcuni elementi:\n",
    "print(mat[2][3]) #prendo elemento in riga 3 colonna 4, il numero 7\n",
    "print(mat[0][2])  #prendo il dato '2'\n",
    "print(mat[1][4]) #prendi il dato '9'"
   ]
  },
  {
   "cell_type": "markdown",
   "id": "bf11fc52-8422-4782-8c96-5ad0c8c6445f",
   "metadata": {},
   "source": [
    "Esercizio Importiamo il modulo math e proviamo a usare le funzioni .sin() .cos() .factorial() e la variabile .pi la riconoscete?"
   ]
  },
  {
   "cell_type": "code",
   "execution_count": null,
   "id": "f9e6d494-d872-4066-be0e-308e52dd9bae",
   "metadata": {},
   "outputs": [],
   "source": [
    "import math\n",
    "\n",
    "print(math.sin(45)) #trovo il seno di un angolo in radianti\n",
    "print(math.cos(60)) #trovo il coseno di un angolo in radianti\n",
    "print(math.factorial(10)) #trova il fattoriale\n",
    "print(math.pi) #utilizzo del pi greco\n",
    "\n",
    "#le funzioni usano i radianti, se nel caso si vuole usare i gradi bisogna convertirli\n"
   ]
  },
  {
   "cell_type": "markdown",
   "id": "91541078-31aa-4edf-bcc2-fc3e878b4955",
   "metadata": {},
   "source": [
    "Esercizio Proviamo a eseguire math.degrees(math.pi) Qual è e cosa significa il risultato? Per saperne di più su questa funzione possiamo usare help(math.degrees)"
   ]
  },
  {
   "cell_type": "code",
   "execution_count": null,
   "id": "a3f2a1a7-0b49-4c21-afc0-f8f9b3c01c52",
   "metadata": {},
   "outputs": [],
   "source": [
    "print(math.pi) #questa funzione restituisce il valore di pi greco\n",
    "help(math.degrees) #convertire radianti in gradi\n",
    "\n",
    "math.degrees(math.pi)"
   ]
  },
  {
   "cell_type": "markdown",
   "id": "6d4a1348-6c0f-484a-a339-0c987869a91e",
   "metadata": {},
   "source": [
    "Esercizio L'azienda Object SpA ha creato una lista di quanti oggetti ha venduto ogni mese nell'ultimo anno: lst = [2000, 5500, 7200, 4320, 1280, 1900, 2500, 3900, 6410, 8150, 7100, 5350] trasformiamola in un array NumPy (casting): lst = np.array(lst) e rispondiamo alle domande del CEO della Object SpA: • qual è stata la vendita massima mensile? E quella minima? • quali sono le vendite mensili maggiori di 4999 oggetti? E quante ne sono? • quali sono le vendite minori di 3000 oggetti?"
   ]
  },
  {
   "cell_type": "code",
   "execution_count": null,
   "id": "482b5895-b6e6-4378-9f27-79382a1fa8c1",
   "metadata": {},
   "outputs": [],
   "source": [
    "lst = [2000, 5500, 7200, 4320, 1280, 1900, 2500, 3900, 6410, 8150, 7100, 5350]\n",
    "lst = np.array(lst)\n",
    "\n",
    "vendita_massima = max(lst)\n",
    "vendita_minima = min(lst)\n",
    "\n",
    "print(f\"la vendita massima e': {vendita_massima}\")\n",
    "print(f\"la vendita minima e': {vendita_minima}\")"
   ]
  },
  {
   "cell_type": "code",
   "execution_count": null,
   "id": "232ac9fa-dbe5-4422-a14c-7e010a7ab3c0",
   "metadata": {},
   "outputs": [],
   "source": [
    "vendite_maggiori = lst[lst > 4999]\n",
    "quantita_vendite = vendite_maggiori.size\n",
    "\n",
    "print(\"vendite maggiori di 4999:\",vendite_maggiori)\n",
    "print(\"quantita:\",quantita_vendite)"
   ]
  },
  {
   "cell_type": "code",
   "execution_count": null,
   "id": "b3e388a8-755d-45ae-835a-74bb7c20cfa6",
   "metadata": {},
   "outputs": [],
   "source": [
    "vendite_minori = lst[lst < 3000]\n",
    "quante_minori = vendite_minori.size\n",
    "\n",
    "print(\"vnedite minori di 3000:\", vendite_minori)\n",
    "print(\"quantita:\", quante_minori)"
   ]
  },
  {
   "cell_type": "markdown",
   "id": "eead8ce7-17ef-402e-a51e-7d9219457c0d",
   "metadata": {},
   "source": [
    "Esercizio Consideriamo il seguente dizionario: fatturati_dict = {1997: 12_000, 1998: 15_000, 1999: 20_000, 2000: 23_000, 2001: 25_000, 2002: 17_000, 2003: 14_000, 2004: 21_000} Consideriamo ora la seguente Series: fatturati_series = pd.Series([12_000, 15_000, 20_000, 23_000, 25_000, 17_000, 14_000, 21_000], index=range(1997, 2005)) Possiamo accedere alle stesse informazioni nello stesso modo: fatturati_dict[1997] fatturati_series[1997] Dunque qual è la differenza tra i due tipi di dato?"
   ]
  },
  {
   "cell_type": "code",
   "execution_count": null,
   "id": "aaf32449-abbb-4f79-8706-c85c16b3c58f",
   "metadata": {},
   "outputs": [],
   "source": [
    "fatturati_dict = {1997: 12_000, 1998: 15_000, 1999: 20_000, 2000: 23_000, 2001: 25_000, 2002: 17_000, 2003: 14_000, 2004: 21_000}\n",
    "fatturati_series = pd.Series([12_000, 15_000, 20_000, 23_000, 25_000, 17_000, 14_000, 21_000], index=range(1997, 2005))\n",
    "\n",
    "print(fatturati_dict[1997])\n",
    "print(fatturati_series[1997])"
   ]
  },
  {
   "cell_type": "markdown",
   "id": "96216ee7-620a-4bb5-b6a9-f763b10f3194",
   "metadata": {},
   "source": [
    "**Entrambe associano una chiave a un valore ovvero anno a fatturato, entrambe utilizzano anche lo stesso construtto per 'pescare' un dato risultato** *ma la differenza e' che dizionario e' un semplice construtto (metodo di python) che utilizza chiave per associare un valore, ma pandas e' uno strummento di libreria avanzato che per l'analise dati permette di fare analise piu facilmente usando i dati per creare addirittura soluzioni visibili come graffici e puo essere convertita in un dataframe (tabella come in excel) per l'analise avanzata*"
   ]
  },
  {
   "cell_type": "markdown",
   "id": "7956c7e1-cf37-43df-9d28-e899b24151c5",
   "metadata": {},
   "source": [
    "Esercizio L'azienda Object SpA ha un dataset con tutti gli stipendi dei dipendenti, memorizzato in un ndarray: import numpy as np stipendi = np.array( [100, 200, 300, 400, 500,  600, 700, 800, 900, 1000] ) L'azienda ci chiede di raddoppiare tutti gli stipendi; facciamolo in due modi: • con un ciclo for e masking **il masking e' utilizzato per fare operazione solo con alcuni dati dentro una lista, con la lista intera l'ideale e' utilizzare il for, esso transforma i dati in booleano**"
   ]
  },
  {
   "cell_type": "code",
   "execution_count": 8,
   "id": "8c7995f6-bc48-4a6b-9d74-6db4f8d20388",
   "metadata": {},
   "outputs": [
    {
     "name": "stdout",
     "output_type": "stream",
     "text": [
      "Stipendi raddopiati: [ 200  400  600  800 1000 1200 1400 1600 1800 2000]\n",
      "[False False False  True  True  True  True  True False False]\n",
      "[400 500 600 700 800]\n",
      "stipendi raddopiati: [ 100  200  300  800 1000 1200 1400 1600  900 1000]\n"
     ]
    }
   ],
   "source": [
    "stipendi = np.array( [100, 200, 300, 400, 500, 600, 700, 800, 900, 1000] )\n",
    "stipendi_rad = [] #lista vuota per essere riempita con gli stipendi raddopiati\n",
    "\n",
    "for stipendio in stipendi:\n",
    "    stipendi_rad.append(stipendio * 2)\n",
    "\n",
    "\n",
    "stipendi_rad = np.array(stipendi_rad)\n",
    "print(\"Stipendi raddopiati:\", stipendi_rad)\n",
    "\n",
    "\n",
    "mask = (stipendi > 300) & (stipendi < 900)\n",
    "print(mask)\n",
    "print(stipendi[mask])\n",
    "\n",
    "stipendi[mask] = stipendi[mask] * 2 #stipendi mask raddopiati\n",
    "print(\"stipendi raddopiati:\", stipendi,\"\") #ha raddopiato in output solo gli stipendi nel 'range' del mask"
   ]
  },
  {
   "cell_type": "code",
   "execution_count": null,
   "id": "70d1355f-0e4c-498a-b364-9ecadcc41896",
   "metadata": {},
   "outputs": [],
   "source": []
  }
 ],
 "metadata": {
  "kernelspec": {
   "display_name": "Python [conda env:base] *",
   "language": "python",
   "name": "conda-base-py"
  },
  "language_info": {
   "codemirror_mode": {
    "name": "ipython",
    "version": 3
   },
   "file_extension": ".py",
   "mimetype": "text/x-python",
   "name": "python",
   "nbconvert_exporter": "python",
   "pygments_lexer": "ipython3",
   "version": "3.12.7"
  }
 },
 "nbformat": 4,
 "nbformat_minor": 5
}
